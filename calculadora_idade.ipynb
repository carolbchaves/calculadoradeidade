# Solicita o nome do usuário
nome = input("Digite seu nome: ")
print(f"Oi, {nome}! Vamos calcular a sua idade no futuro?")

# Solicita o ano de nascimento
ano_nascimento = int(input("Digite o ano do seu nascimento: "))

# Laço para repetir o cálculo
while True:
    ano_futuro = int(input("Digite o ano que deseja saber sua idade: "))
    idade_futura = ano_futuro - ano_nascimento

    if idade_futura < 0:
        print("Por favor, digite um ano maior do que o ano do seu nascimento.")
    else:
        print(f"Sua idade será: {idade_futura} anos.")

        idade_atual = 2025 - ano_nascimento
        print(f"Você tem aproximadamente {idade_atual} anos hoje.")

        diferenca_anos = ano_futuro - 2025
        print(f"Faltam {diferenca_anos} anos para chegar em {ano_futuro}.")

        idade_dobrada = idade_futura * 2
        print(f"O dobro da sua idade em {ano_futuro} será: {idade_dobrada}.")

        if idade_futura > 100:
            print("Nossa! Você estará bem velhinho(a)! 👴👵")

    repetir = input('Quer calcular novamente? Digite "sim" para continuar ou "não" para sair: ').lower()
    if repetir != "sim":
        print("Obrigado por usar a calculadora de idade futura. Até logo!")
        break
