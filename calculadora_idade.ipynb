
{
 "cells": [
  {
   "cell_type": "markdown",
   "metadata": {},
   "source": [
    "# Calculadora de Idade Futura\n",
    "Este projeto foi desenvolvido como parte do curso de Ciência de Dados da EBAC.\n",
    "\n",
    "Objetivo: Criar uma calculadora que permite ao usuário saber qual será sua idade em um ano futuro, com a possibilidade de repetir o cálculo várias vezes.\n",
    "\n",
    "O código utiliza:\n",
    "- Entradas com `input`\n",
    "- Conversão de tipos\n",
    "- Condicionais (`if`)\n",
    "- Laço de repetição (`while`)\n",
    "- Impressão de resultados com `print`\n",
    "- Operações matemáticas"
   ]
  },
  {
   "cell_type": "code",
   "execution_count": null,
   "metadata": {},
   "outputs": [],
   "source": [
    "# Solicita o nome do usuário\n",
    "nome = input("Digite seu nome: ")\n",
    "print(f"Oi, {nome}! Vamos calcular a sua idade no futuro?")\n",
    "\n",
    "# Solicita o ano de nascimento\n",
    "ano_nascimento = int(input("Digite o ano do seu nascimento: "))\n",
    "\n",
    "# Laço para repetir o cálculo\n",
    "while True:\n",
    "    ano_futuro = int(input("Digite o ano que deseja saber sua idade: "))\n",
    "    idade_futura = ano_futuro - ano_nascimento\n",
    "\n",
    "    if idade_futura < 0:\n",
    "        print("Por favor, digite um ano maior do que o ano do seu nascimento.")\n",
    "    else:\n",
    "        print(f"Sua idade será: {idade_futura} anos.")\n",
    "\n",
    "        idade_atual = 2025 - ano_nascimento\n",
    "        print(f"Você tem aproximadamente {idade_atual} anos hoje.")\n",
    "\n",
    "        diferenca_anos = ano_futuro - 2025\n",
    "        print(f"Faltam {diferenca_anos} anos para chegar em {ano_futuro}.")\n",
    "\n",
    "        idade_dobrada = idade_futura * 2\n",
    "        print(f"O dobro da sua idade em {ano_futuro} será: {idade_dobrada}.")\n",
    "\n",
    "        if idade_futura > 100:\n",
    "            print("Nossa! Você estará bem velhinho(a)! 👴👵")\n",
    "\n",
    "    repetir = input('Quer calcular novamente? Digite "sim" para continuar ou "não" para sair: ').lower()\n",
    "    if repetir != "sim":\n",
    "        print("Obrigado por usar a calculadora de idade futura. Até logo!")\n",
    "        break"
   ]
  },
  {
   "cell_type": "markdown",
   "metadata": {},
   "source": [
    "## Conceitos Utilizados\n",
    "\n",
    "- `input()` para capturar entradas do usuário\n",
    "- `int()` para conversão de dados\n",
    "- Estrutura `while` para repetição\n",
    "- Condicionais `if` para validar entradas\n",
    "- `print()` para exibir resultados"
   ]
  },
  {
   "cell_type": "markdown",
   "metadata": {},
   "source": [
    "## Conclusão\n",
    "\n",
    "Com este exercício, foi possível praticar os principais comandos básicos do Python. O projeto simula uma calculadora de idade futura e utiliza recursos essenciais de lógica de programação."
   ]
  }
 ],
 "metadata": {
  "kernelspec": {
   "display_name": "Python 3",
   "language": "python",
   "name": "python3"
  },
  "language_info": {
   "name": "python",
   "version": ""
  }
 },
 "nbformat": 4,
 "nbformat_minor": 2
}
